{
 "cells": [
  {
   "cell_type": "code",
   "execution_count": 1,
   "id": "ebdcf035",
   "metadata": {},
   "outputs": [
    {
     "name": "stderr",
     "output_type": "stream",
     "text": [
      "INFO:services.indexing_service:Loading required NLTK resources...\n"
     ]
    },
    {
     "name": "stdout",
     "output_type": "stream",
     "text": [
      "✓ All imports completed successfully!\n",
      "✓ Project root: c:\\Users\\Ahmad\\Desktop\\ir_system_project\n"
     ]
    }
   ],
   "source": [
    "# Imports\n",
    "import os\n",
    "import sys\n",
    "import numpy as np\n",
    "import pandas as pd\n",
    "import matplotlib.pyplot as plt\n",
    "from sklearn.metrics import precision_score, recall_score\n",
    "import ir_datasets\n",
    "from collections import defaultdict\n",
    "import warnings\n",
    "warnings.filterwarnings('ignore')\n",
    "\n",
    "# Add project root to path\n",
    "project_root = os.path.dirname(os.path.abspath('.'))\n",
    "if project_root not in sys.path:\n",
    "    sys.path.append(project_root)\n",
    "\n",
    "# Import our services\n",
    "from services.vectorization.tfidf_vectorizer import load_tfidf_model\n",
    "from services.vectorization.embedding_vectorizer import load_embedding_model\n",
    "from services.matcher import Matcher\n",
    "from services.query_processor import QueryProcessor\n",
    "\n",
    "# Set up plotting style\n",
    "plt.style.use('default')\n",
    "\n",
    "print(\"✓ All imports completed successfully!\")\n",
    "print(f\"✓ Project root: {project_root}\")"
   ]
  },
  {
   "cell_type": "code",
   "execution_count": 2,
   "id": "b4723147",
   "metadata": {},
   "outputs": [
    {
     "name": "stdout",
     "output_type": "stream",
     "text": [
      "Loading data for: antique/test\n",
      "Loading documents from database...\n",
      "Database path: c:\\Users\\Ahmad\\Desktop\\ir_system_project\\data\\ir_documents.db\n",
      "Loaded 403666 documents from database\n",
      "Loading queries from evaluation folder...\n",
      "Loading qrels from evaluation folder...\n",
      "✓ Loaded: 403666 documents, 200 queries, 200 query-relevance sets\n",
      "Sample query: (3990512, 'how can we get concentration onsomething?')\n",
      "Sample qrel: ('1964316', {'1964316_5': 4, '1674088_11': 1, '1218838_13': 2, '1519022_15': 2, '3059341_5': 2, '4126855_1': 2, '2434719_9': 2, '3786452_1': 2, '1964316_3': 4, '1964316_2': 4, '767911_0': 2, '1964316_0': 4, '1964316_1': 3, '1964316_4': 3, '1248144_1': 2, '2768257_0': 2, '1519022_3': 2, '2245059_0': 2, '1013722_5': 2, '650233_14': 2, '2305171_0': 2, '3435824_3': 2, '636973_2': 1, '1724160_7': 2, '3592532_6': 2, '636973_1': 1, '1148987_10': 2, '2787567_1': 2, '647686_0': 2, '369616_4': 4, '1759521_19': 3, '2929011_0': 4, '1810312_4': 2})\n"
     ]
    }
   ],
   "source": [
    "# Load documents from database and queries/qrels from evaluation folder\n",
    "import sqlite3\n",
    "import pandas as pd\n",
    "from collections import defaultdict\n",
    "import os\n",
    "\n",
    "dataset_name = \"antique/test\"\n",
    "print(f\"Loading data for: {dataset_name}\")\n",
    "\n",
    "# 1. Load documents from database\n",
    "print(\"Loading documents from database...\")\n",
    "db_path = os.path.join(project_root, \"data\", \"ir_documents.db\")\n",
    "print(f\"Database path: {db_path}\")\n",
    "\n",
    "conn = sqlite3.connect(db_path)\n",
    "cursor = conn.cursor()\n",
    "cursor.execute(\"SELECT doc_id, text FROM documents WHERE dataset = ?\", (dataset_name,))\n",
    "rows = cursor.fetchall()\n",
    "conn.close()\n",
    "\n",
    "documents = {row[0]: row[1] for row in rows}\n",
    "print(f\"Loaded {len(documents)} documents from database\")\n",
    "\n",
    "# 2. Load queries from evaluation folder\n",
    "print(\"Loading queries from evaluation folder...\")\n",
    "queries_path = os.path.join(project_root, \"evaluation\", \"antique_test.queries.tsv\")\n",
    "queries_df = pd.read_csv(queries_path, sep='\\t', header=None, names=['query_id', 'query_text'])\n",
    "queries = dict(zip(queries_df['query_id'], queries_df['query_text']))\n",
    "\n",
    "# 3. Load qrels from evaluation folder\n",
    "print(\"Loading qrels from evaluation folder...\")\n",
    "qrels_path = os.path.join(project_root, \"evaluation\", \"antique_test.qrels\")\n",
    "qrels_df = pd.read_csv(qrels_path, sep=' ', header=None, names=['query_id', 'run_id', 'doc_id', 'relevance'])\n",
    "\n",
    "# Group by query_id, handle NaN values\n",
    "qrels = {}\n",
    "for _, row in qrels_df.iterrows():\n",
    "    query_id = str(row['query_id'])\n",
    "    doc_id = str(row['doc_id'])\n",
    "    \n",
    "    # Handle NaN values in relevance\n",
    "    if pd.isna(row['relevance']):\n",
    "        relevance = 0\n",
    "    else:\n",
    "        relevance = int(row['relevance'])\n",
    "    \n",
    "    if query_id not in qrels:\n",
    "        qrels[query_id] = {}\n",
    "    qrels[query_id][doc_id] = relevance\n",
    "\n",
    "print(f\"✓ Loaded: {len(documents)} documents, {len(queries)} queries, {len(qrels)} query-relevance sets\")\n",
    "print(f\"Sample query: {list(queries.items())[0]}\")\n",
    "print(f\"Sample qrel: {list(qrels.items())[0]}\")"
   ]
  },
  {
   "cell_type": "code",
   "execution_count": null,
   "id": "486af041",
   "metadata": {},
   "outputs": [],
   "source": [
    "Loading Hybrid models and vectors...\n",
    "❌ Error loading TF-IDF: TF-IDF model not found: antique/test\n",
    "❌ Error loading Embedding: Model not found: models\\antique_test_embedding_model.joblib\n",
    "❌ Cannot proceed with hybrid evaluation - missing models"
   ]
  }
 ],
 "metadata": {
  "kernelspec": {
   "display_name": "venv",
   "language": "python",
   "name": "python3"
  },
  "language_info": {
   "codemirror_mode": {
    "name": "ipython",
    "version": 3
   },
   "file_extension": ".py",
   "mimetype": "text/x-python",
   "name": "python",
   "nbconvert_exporter": "python",
   "pygments_lexer": "ipython3",
   "version": "3.12.5"
  }
 },
 "nbformat": 4,
 "nbformat_minor": 5
}
