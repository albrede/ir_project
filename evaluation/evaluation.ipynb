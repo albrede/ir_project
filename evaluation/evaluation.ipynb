{
 "cells": [
  {
   "cell_type": "code",
   "execution_count": 2,
   "id": "82e2c740",
   "metadata": {},
   "outputs": [
    {
     "name": "stdout",
     "output_type": "stream",
     "text": [
      "أول 5 استعلامات:\n",
      "   query_id                                              query\n",
      "0         1                     what is the origin of COVID-19\n",
      "1         2  how does the coronavirus respond to changes in...\n",
      "2         3  will SARS-CoV2 infected people develop immunit...\n",
      "3         4                   what causes death from Covid-19?\n",
      "4         5  what drugs have been active against SARS-CoV o...\n",
      "\n",
      "أول 5 صفوف من qrels:\n",
      "   query_id  Q0    doc_id  relevance\n",
      "0         1   0  005b2j4b          2\n",
      "1         1   0  00fmeepz          1\n",
      "2         1   0  g7dhmyyo          2\n",
      "3         1   0  0194oljo          1\n",
      "4         1   0  021q9884          1\n"
     ]
    }
   ],
   "source": [
    "import pandas as pd\n",
    "\n",
    "# قراءة ملف الاستعلامات (queries)\n",
    "queries_df = pd.read_csv('beir_trec-covid.queries.tsv', sep='\\t', header=None, names=['query_id', 'query'])\n",
    "\n",
    "print(\"أول 5 استعلامات:\")\n",
    "print(queries_df.head())\n",
    "\n",
    "# قراءة ملف qrels (relevance judgements)\n",
    "qrels_df = pd.read_csv('beir_trec-covid.qrels', sep=r'\\s+', header=None, names=['query_id', 'Q0', 'doc_id', 'relevance'])\n",
    "\n",
    "print(\"\\nأول 5 صفوف من qrels:\")\n",
    "print(qrels_df.head())"
   ]
  },
  {
   "cell_type": "code",
   "execution_count": 3,
   "id": "8bf29e07",
   "metadata": {},
   "outputs": [
    {
     "name": "stderr",
     "output_type": "stream",
     "text": [
      "c:\\Users\\Ahmad\\Desktop\\ir_system_project\\venv\\Lib\\site-packages\\tqdm\\auto.py:21: TqdmWarning: IProgress not found. Please update jupyter and ipywidgets. See https://ipywidgets.readthedocs.io/en/stable/user_install.html\n",
      "  from .autonotebook import tqdm as notebook_tqdm\n",
      "INFO:services.indexing_service:Loading required NLTK resources...\n"
     ]
    }
   ],
   "source": [
    "import sys\n",
    "sys.path.append('..')  # حتى يتمكن بايثون من رؤية مجلد المشروع الرئيسي إذا كنت داخل evaluation\n",
    "\n",
    "from api_services.search_ranking_api import _load_matcher"
   ]
  },
  {
   "cell_type": "code",
   "execution_count": null,
   "id": "1a36f5ec",
   "metadata": {},
   "outputs": [
    {
     "name": "stderr",
     "output_type": "stream",
     "text": [
      "ERROR:api_services.search_ranking_api:خطأ في تحميل المطابق: TF-IDF model not found: beir_trec-covid\n"
     ]
    },
    {
     "ename": "FileNotFoundError",
     "evalue": "TF-IDF model not found: beir_trec-covid",
     "output_type": "error",
     "traceback": [
      "\u001b[31m---------------------------------------------------------------------------\u001b[39m",
      "\u001b[31mFileNotFoundError\u001b[39m                         Traceback (most recent call last)",
      "\u001b[36mCell\u001b[39m\u001b[36m \u001b[39m\u001b[32mIn[6]\u001b[39m\u001b[32m, line 2\u001b[39m\n\u001b[32m      1\u001b[39m \u001b[38;5;66;03m# تحميل matcher و doc_ids لمجموعة بيانات beir/trec-covid وطريقة tfidf\u001b[39;00m\n\u001b[32m----> \u001b[39m\u001b[32m2\u001b[39m matcher, doc_ids = \u001b[43m_load_matcher\u001b[49m\u001b[43m(\u001b[49m\u001b[43mmethod\u001b[49m\u001b[43m=\u001b[49m\u001b[33;43m\"\u001b[39;49m\u001b[33;43mtfidf\u001b[39;49m\u001b[33;43m\"\u001b[39;49m\u001b[43m,\u001b[49m\u001b[43m \u001b[49m\u001b[43mdataset_name\u001b[49m\u001b[43m=\u001b[49m\u001b[33;43m\"\u001b[39;49m\u001b[33;43mbeir_trec-covid\u001b[39;49m\u001b[33;43m\"\u001b[39;49m\u001b[43m)\u001b[49m\n",
      "\u001b[36mFile \u001b[39m\u001b[32mc:\\Users\\Ahmad\\Desktop\\ir_system_project\\evaluation\\..\\api_services\\search_ranking_api.py:90\u001b[39m, in \u001b[36m_load_matcher\u001b[39m\u001b[34m(method, dataset_name, alpha)\u001b[39m\n\u001b[32m     88\u001b[39m \u001b[38;5;28;01mdef\u001b[39;00m\u001b[38;5;250m \u001b[39m\u001b[34m_load_matcher\u001b[39m(method: \u001b[38;5;28mstr\u001b[39m, dataset_name: \u001b[38;5;28mstr\u001b[39m, alpha: \u001b[38;5;28mfloat\u001b[39m = \u001b[32m0.5\u001b[39m):\n\u001b[32m     89\u001b[39m     \u001b[38;5;28;01mtry\u001b[39;00m:\n\u001b[32m---> \u001b[39m\u001b[32m90\u001b[39m         vectorizer, doc_vectors_tfidf, tfidf_doc_ids = \u001b[43mload_tfidf_model\u001b[49m\u001b[43m(\u001b[49m\u001b[43mdataset_name\u001b[49m\u001b[43m)\u001b[49m\n\u001b[32m     91\u001b[39m         embedding_model, doc_vectors_embedding, embedding_doc_ids = load_embedding_model(dataset_name)\n\u001b[32m     93\u001b[39m         \u001b[38;5;28;01mif\u001b[39;00m method == \u001b[33m\"\u001b[39m\u001b[33mtfidf\u001b[39m\u001b[33m\"\u001b[39m:\n",
      "\u001b[36mFile \u001b[39m\u001b[32mc:\\Users\\Ahmad\\Desktop\\ir_system_project\\evaluation\\..\\services\\vectorization\\tfidf_vectorizer.py:48\u001b[39m, in \u001b[36mload_tfidf_model\u001b[39m\u001b[34m(save_name)\u001b[39m\n\u001b[32m     46\u001b[39m matrix_path = os.path.join(VECTORS_DIR, \u001b[33mf\u001b[39m\u001b[33m\"\u001b[39m\u001b[38;5;132;01m{\u001b[39;00mclean_save_name\u001b[38;5;132;01m}\u001b[39;00m\u001b[33m_tfidf_matrix.joblib\u001b[39m\u001b[33m\"\u001b[39m)\n\u001b[32m     47\u001b[39m \u001b[38;5;28;01mif\u001b[39;00m \u001b[38;5;129;01mnot\u001b[39;00m os.path.exists(model_path) \u001b[38;5;129;01mor\u001b[39;00m \u001b[38;5;129;01mnot\u001b[39;00m os.path.exists(matrix_path):\n\u001b[32m---> \u001b[39m\u001b[32m48\u001b[39m     \u001b[38;5;28;01mraise\u001b[39;00m \u001b[38;5;167;01mFileNotFoundError\u001b[39;00m(\u001b[33mf\u001b[39m\u001b[33m\"\u001b[39m\u001b[33mTF-IDF model not found: \u001b[39m\u001b[38;5;132;01m{\u001b[39;00msave_name\u001b[38;5;132;01m}\u001b[39;00m\u001b[33m\"\u001b[39m)\n\u001b[32m     49\u001b[39m vectorizer = joblib.load(model_path)\n\u001b[32m     50\u001b[39m data = joblib.load(matrix_path)\n",
      "\u001b[31mFileNotFoundError\u001b[39m: TF-IDF model not found: beir_trec-covid"
     ]
    },
    {
     "ename": "",
     "evalue": "",
     "output_type": "error",
     "traceback": [
      "\u001b[1;31mThe Kernel crashed while executing code in the current cell or a previous cell. \n",
      "\u001b[1;31mPlease review the code in the cell(s) to identify a possible cause of the failure. \n",
      "\u001b[1;31mClick <a href='https://aka.ms/vscodeJupyterKernelCrash'>here</a> for more info. \n",
      "\u001b[1;31mView Jupyter <a href='command:jupyter.viewOutput'>log</a> for further details."
     ]
    }
   ],
   "source": [
    "# تحميل matcher و doc_ids لمجموعة بيانات beir/trec-covid وطريقة tfidf\n",
    "matcher, doc_ids = _load_matcher(method=\"tfidf\", dataset_name=\"beir_trec-covid\")"
   ]
  }
 ],
 "metadata": {
  "kernelspec": {
   "display_name": "venv",
   "language": "python",
   "name": "python3"
  },
  "language_info": {
   "codemirror_mode": {
    "name": "ipython",
    "version": 3
   },
   "file_extension": ".py",
   "mimetype": "text/x-python",
   "name": "python",
   "nbconvert_exporter": "python",
   "pygments_lexer": "ipython3",
   "version": "3.12.5"
  }
 },
 "nbformat": 4,
 "nbformat_minor": 5
}
